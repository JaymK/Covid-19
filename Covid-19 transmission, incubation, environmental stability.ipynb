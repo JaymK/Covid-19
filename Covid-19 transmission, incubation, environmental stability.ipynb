{
 "cells": [
  {
   "cell_type": "code",
   "execution_count": 1,
   "metadata": {},
   "outputs": [],
   "source": [
    "import numpy as np # linear algebra\n",
    "import pandas as pd # data processing, CSV file I/O (e.g. pd.read_csv)\n",
    "import spacy\n",
    "from spacy.matcher import PhraseMatcher\n",
    "from collections import defaultdict\n",
    "from IPython.core.display import display, HTML"
   ]
  },
  {
   "cell_type": "code",
   "execution_count": 2,
   "metadata": {},
   "outputs": [
    {
     "name": "stdout",
     "output_type": "stream",
     "text": [
      "kaggle/input\\covid19-literature\\df_covid.csv\n"
     ]
    }
   ],
   "source": [
    "# Input data files are available in the \"../input/\" directory.\n",
    "# For example, running this (by clicking run or pressing Shift+Enter) will list all files under the input directory\n",
    "\n",
    "import os\n",
    "for dirname, _, filenames in os.walk('kaggle/input'):\n",
    "    for filename in filenames:\n",
    "        print(os.path.join(dirname, filename))\n",
    "\n",
    "# Any results you write to the current directory are saved as output."
   ]
  },
  {
   "cell_type": "code",
   "execution_count": 9,
   "metadata": {
    "_cell_guid": "79c7e3d0-c299-4dcb-8224-4455121ee9b0",
    "_uuid": "d629ff2d2480ee46fbb7e2d37f6b5fab8052498a"
   },
   "outputs": [
    {
     "data": {
      "text/html": [
       "<div>\n",
       "<style scoped>\n",
       "    .dataframe tbody tr th:only-of-type {\n",
       "        vertical-align: middle;\n",
       "    }\n",
       "\n",
       "    .dataframe tbody tr th {\n",
       "        vertical-align: top;\n",
       "    }\n",
       "\n",
       "    .dataframe thead th {\n",
       "        text-align: right;\n",
       "    }\n",
       "</style>\n",
       "<table border=\"1\" class=\"dataframe\">\n",
       "  <thead>\n",
       "    <tr style=\"text-align: right;\">\n",
       "      <th></th>\n",
       "      <th>paper_id</th>\n",
       "      <th>abstract</th>\n",
       "      <th>body_text</th>\n",
       "      <th>authors</th>\n",
       "      <th>title</th>\n",
       "      <th>journal</th>\n",
       "      <th>abstract_summary</th>\n",
       "      <th>abstract_word_count</th>\n",
       "      <th>body_word_count</th>\n",
       "    </tr>\n",
       "  </thead>\n",
       "  <tbody>\n",
       "    <tr>\n",
       "      <th>0</th>\n",
       "      <td>25621281691205eb015383cbac839182b838514f</td>\n",
       "      <td>the human interferon ifninduced mxa protein is...</td>\n",
       "      <td>influenza a viruses iav are severe human patho...</td>\n",
       "      <td>Dornfeld, Dominik. Dudek, Alexandra H....</td>\n",
       "      <td>SMARCA2-regulated host cell factors are&lt;br&gt;re...</td>\n",
       "      <td>Sci Rep</td>\n",
       "      <td>The human interferon (IFN)-induced MxA&lt;br&gt;pro...</td>\n",
       "      <td>924</td>\n",
       "      <td>5136</td>\n",
       "    </tr>\n",
       "    <tr>\n",
       "      <th>1</th>\n",
       "      <td>7db22f7f81977109d493a0edf8ed75562648e839</td>\n",
       "      <td>scorpine a small cationic peptide from the ven...</td>\n",
       "      <td>the oldest known scorpions lived around 430 mi...</td>\n",
       "      <td>Zhang, Chao. He, Xinlong...</td>\n",
       "      <td>Recombinant Scorpine Produced Using SUMO&lt;br&gt;F...</td>\n",
       "      <td>PLoS One</td>\n",
       "      <td>Scorpine, a small cationic peptide from the&lt;b...</td>\n",
       "      <td>253</td>\n",
       "      <td>3543</td>\n",
       "    </tr>\n",
       "    <tr>\n",
       "      <th>2</th>\n",
       "      <td>a137eb51461b4a4ed3980aa5b9cb2f2c1cf0292a</td>\n",
       "      <td>background the complex interplay between viral...</td>\n",
       "      <td>the emergence of severe acute respiratory synd...</td>\n",
       "      <td>McDermott, Jason E.. Mitchell, Hugh D....</td>\n",
       "      <td>The effect of inhibition of PP1 and TNFα&lt;br&gt;s...</td>\n",
       "      <td>BMC Syst Biol</td>\n",
       "      <td>Background: The complex interplay between&lt;br&gt;...</td>\n",
       "      <td>255</td>\n",
       "      <td>5137</td>\n",
       "    </tr>\n",
       "    <tr>\n",
       "      <th>3</th>\n",
       "      <td>6c3e1a43f0e199876d4bd9ff787e1911fd5cfaa6</td>\n",
       "      <td>NaN</td>\n",
       "      <td>sjgrens syndrome ss is a connective tissue dis...</td>\n",
       "      <td>Talotta, Rossella. Sarzi-Puttini, Piercarlo...</td>\n",
       "      <td>Microbial Agents as Putative Inducers of B Ce...</td>\n",
       "      <td>J Immunol Res</td>\n",
       "      <td>Not provided.</td>\n",
       "      <td>0</td>\n",
       "      <td>5977</td>\n",
       "    </tr>\n",
       "    <tr>\n",
       "      <th>4</th>\n",
       "      <td>2ce201c2ba233a562ee605a9aa12d2719cfa2beb</td>\n",
       "      <td>background human adenovirus type 55 is a reeme...</td>\n",
       "      <td>human adenovirus hadv is a common pathogen amo...</td>\n",
       "      <td>Yi, Lina. Zou, LiRong...</td>\n",
       "      <td>A cluster of adenovirus type B55 infection in...</td>\n",
       "      <td>Influenza Other Respir Viruses</td>\n",
       "      <td>Background: Human adenovirus type 55 is a&lt;br&gt;...</td>\n",
       "      <td>250</td>\n",
       "      <td>1289</td>\n",
       "    </tr>\n",
       "  </tbody>\n",
       "</table>\n",
       "</div>"
      ],
      "text/plain": [
       "                                   paper_id  \\\n",
       "0  25621281691205eb015383cbac839182b838514f   \n",
       "1  7db22f7f81977109d493a0edf8ed75562648e839   \n",
       "2  a137eb51461b4a4ed3980aa5b9cb2f2c1cf0292a   \n",
       "3  6c3e1a43f0e199876d4bd9ff787e1911fd5cfaa6   \n",
       "4  2ce201c2ba233a562ee605a9aa12d2719cfa2beb   \n",
       "\n",
       "                                            abstract  \\\n",
       "0  the human interferon ifninduced mxa protein is...   \n",
       "1  scorpine a small cationic peptide from the ven...   \n",
       "2  background the complex interplay between viral...   \n",
       "3                                                NaN   \n",
       "4  background human adenovirus type 55 is a reeme...   \n",
       "\n",
       "                                           body_text  \\\n",
       "0  influenza a viruses iav are severe human patho...   \n",
       "1  the oldest known scorpions lived around 430 mi...   \n",
       "2  the emergence of severe acute respiratory synd...   \n",
       "3  sjgrens syndrome ss is a connective tissue dis...   \n",
       "4  human adenovirus hadv is a common pathogen amo...   \n",
       "\n",
       "                                          authors  \\\n",
       "0       Dornfeld, Dominik. Dudek, Alexandra H....   \n",
       "1                     Zhang, Chao. He, Xinlong...   \n",
       "2       McDermott, Jason E.. Mitchell, Hugh D....   \n",
       "3  Talotta, Rossella. Sarzi-Puttini, Piercarlo...   \n",
       "4                        Yi, Lina. Zou, LiRong...   \n",
       "\n",
       "                                               title  \\\n",
       "0   SMARCA2-regulated host cell factors are<br>re...   \n",
       "1   Recombinant Scorpine Produced Using SUMO<br>F...   \n",
       "2   The effect of inhibition of PP1 and TNFα<br>s...   \n",
       "3   Microbial Agents as Putative Inducers of B Ce...   \n",
       "4   A cluster of adenovirus type B55 infection in...   \n",
       "\n",
       "                          journal  \\\n",
       "0                         Sci Rep   \n",
       "1                        PLoS One   \n",
       "2                   BMC Syst Biol   \n",
       "3                   J Immunol Res   \n",
       "4  Influenza Other Respir Viruses   \n",
       "\n",
       "                                    abstract_summary  abstract_word_count  \\\n",
       "0   The human interferon (IFN)-induced MxA<br>pro...                  924   \n",
       "1   Scorpine, a small cationic peptide from the<b...                  253   \n",
       "2   Background: The complex interplay between<br>...                  255   \n",
       "3                                      Not provided.                    0   \n",
       "4   Background: Human adenovirus type 55 is a<br>...                  250   \n",
       "\n",
       "   body_word_count  \n",
       "0             5136  \n",
       "1             3543  \n",
       "2             5137  \n",
       "3             5977  \n",
       "4             1289  "
      ]
     },
     "execution_count": 9,
     "metadata": {},
     "output_type": "execute_result"
    }
   ],
   "source": [
    "data = pd.read_csv(\"kaggle/input/covid19-literature/df_covid.csv\")\n",
    "data.head()"
   ]
  },
  {
   "cell_type": "markdown",
   "metadata": {},
   "source": [
    "# Intro to NLP using SpaCy as taught in the Kaggle mini course\n",
    "\n",
    "This is mostly a copy and paste job so certain variable names may not make sense."
   ]
  },
  {
   "cell_type": "code",
   "execution_count": 10,
   "metadata": {},
   "outputs": [],
   "source": [
    "# Full term list.\n",
    "menu = [\"infection\",\"incubation\",\"environmental stability\",]\n",
    "\n",
    "# To limit searches to a partial term list.\n",
    "menu = menu[:3]\n",
    "\n",
    "# Load the SpaCy model\n",
    "nlp = spacy.blank('en')\n",
    "nlp.max_length = 2000000\n",
    "\n",
    "# Create the PhraseMatcher object. The tokenizer is the first argument. Use attr = 'LOWER' to make consistent capitalization\n",
    "matcher = PhraseMatcher(nlp.vocab, attr='LOWER')\n",
    "\n",
    "# Create a list of tokens for each item in the menu\n",
    "menu_tokens_list = [nlp(item) for item in menu]\n",
    "\n",
    "matcher.add(\"MENU\",            # Just a name for the set of rules we're matching to\n",
    "            None,              # Special actions to take on matched words\n",
    "            *menu_tokens_list)"
   ]
  },
  {
   "cell_type": "code",
   "execution_count": 7,
   "metadata": {},
   "outputs": [],
   "source": [
    "# item_ratings is a dictionary of lists. If a key doesn't exist in item_ratings,\n",
    "# the key is added with an empty list as the value.\n",
    "item_ratings = defaultdict(list)\n",
    "\n",
    "for idx, review in data.iterrows():\n",
    "    doc = nlp(review[\"body_text\"])\n",
    "    # Using the matcher from the previous exercise\n",
    "    matches = matcher(doc)\n",
    "    \n",
    "    # Create a set of the items found in the review text\n",
    "    found_items = [{\"item\":doc[item[1]:item[2]],\n",
    "                    \"match_excerpt\":doc[item[1]-50:item[2]+50]}\n",
    "                   for item in matches]\n",
    "        \n",
    "    # Update item_ratings with rating for each item in found_items\n",
    "    # Transform the item strings to lowercase to make it case insensitive\n",
    "    for item in found_items:\n",
    "        item_ratings[str(item[\"item\"]).lower()].append({\"title\":review[\"title\"],\n",
    "                                                        \"authors\":review[\"authors\"],\n",
    "                                                        \"journal\":review[\"journal\"],\n",
    "                                                        \"index\":idx,\n",
    "                                                        \"id\":review[\"paper_id\"],\n",
    "                                                        \"matches\":len(matches),\n",
    "                                                        \"match_excerpt\":item[\"match_excerpt\"]})"
   ]
  },
  {
   "cell_type": "markdown",
   "metadata": {},
   "source": [
    "# Display search results"
   ]
  },
  {
   "cell_type": "code",
   "execution_count": 5,
   "metadata": {},
   "outputs": [
    {
     "ename": "NameError",
     "evalue": "name 'item_ratings' is not defined",
     "output_type": "error",
     "traceback": [
      "\u001b[1;31m---------------------------------------------------------------------------\u001b[0m",
      "\u001b[1;31mNameError\u001b[0m                                 Traceback (most recent call last)",
      "\u001b[1;32m<ipython-input-5-2d462e8c7f93>\u001b[0m in \u001b[0;36m<module>\u001b[1;34m\u001b[0m\n\u001b[1;32m----> 1\u001b[1;33m \u001b[1;32mfor\u001b[0m \u001b[0mitem\u001b[0m \u001b[1;32min\u001b[0m \u001b[0mitem_ratings\u001b[0m\u001b[1;33m.\u001b[0m\u001b[0mitems\u001b[0m\u001b[1;33m(\u001b[0m\u001b[1;33m)\u001b[0m\u001b[1;33m:\u001b[0m\u001b[1;33m\u001b[0m\u001b[1;33m\u001b[0m\u001b[0m\n\u001b[0m\u001b[0;32m      2\u001b[0m     \u001b[0mdisplay\u001b[0m\u001b[1;33m(\u001b[0m\u001b[0mHTML\u001b[0m\u001b[1;33m(\u001b[0m\u001b[1;34mf'<h1>{item[0].upper()}</h1>'\u001b[0m\u001b[1;33m)\u001b[0m\u001b[1;33m)\u001b[0m\u001b[1;33m\u001b[0m\u001b[1;33m\u001b[0m\u001b[0m\n\u001b[0;32m      3\u001b[0m     \u001b[1;32mfor\u001b[0m \u001b[0mi\u001b[0m \u001b[1;32min\u001b[0m \u001b[0mitem\u001b[0m\u001b[1;33m[\u001b[0m\u001b[1;36m1\u001b[0m\u001b[1;33m]\u001b[0m\u001b[1;33m:\u001b[0m\u001b[1;33m\u001b[0m\u001b[1;33m\u001b[0m\u001b[0m\n\u001b[0;32m      4\u001b[0m         \u001b[0mmarked_excerpt\u001b[0m \u001b[1;33m=\u001b[0m \u001b[0mstr\u001b[0m\u001b[1;33m(\u001b[0m\u001b[0mi\u001b[0m\u001b[1;33m[\u001b[0m\u001b[1;34m\"match_excerpt\"\u001b[0m\u001b[1;33m]\u001b[0m\u001b[1;33m)\u001b[0m\u001b[1;33m.\u001b[0m\u001b[0mreplace\u001b[0m\u001b[1;33m(\u001b[0m\u001b[0mitem\u001b[0m\u001b[1;33m[\u001b[0m\u001b[1;36m0\u001b[0m\u001b[1;33m]\u001b[0m\u001b[1;33m,\u001b[0m \u001b[1;34mf\"<mark>{item[0]}</mark>\"\u001b[0m\u001b[1;33m)\u001b[0m\u001b[1;33m\u001b[0m\u001b[1;33m\u001b[0m\u001b[0m\n\u001b[0;32m      5\u001b[0m         display(HTML(f\"\"\"<p>\n",
      "\u001b[1;31mNameError\u001b[0m: name 'item_ratings' is not defined"
     ]
    }
   ],
   "source": [
    "for item in item_ratings.items():\n",
    "    display(HTML(f'<h1>{item[0].upper()}</h1>'))\n",
    "    for i in item[1]:\n",
    "        marked_excerpt = str(i[\"match_excerpt\"]).replace(item[0], f\"<mark>{item[0]}</mark>\")\n",
    "        display(HTML(f\"\"\"<p>\n",
    "                <strong>Title:</strong> {i[\"title\"]}</br>\n",
    "                <strong>Authors:</strong> {i[\"authors\"]}</br>\n",
    "                <strong>Journal:</strong> {i[\"journal\"]}</br>\n",
    "                <strong>Item:</strong> {item[0].capitalize()}</br>\n",
    "                <strong>Index:</strong> {i[\"index\"]}</br>\n",
    "                <strong>ID:</strong> {i[\"id\"]}</br>\n",
    "                <strong>Number of matches:</strong> {i[\"matches\"]}\n",
    "            </p>\n",
    "            <blockquote>...{marked_excerpt}...</blockquote>\"\"\"))"
   ]
  },
  {
   "cell_type": "markdown",
   "metadata": {},
   "source": []
  }
 ],
 "metadata": {
  "kernelspec": {
   "display_name": "Python 3",
   "language": "python",
   "name": "python3"
  },
  "language_info": {
   "codemirror_mode": {
    "name": "ipython",
    "version": 3
   },
   "file_extension": ".py",
   "mimetype": "text/x-python",
   "name": "python",
   "nbconvert_exporter": "python",
   "pygments_lexer": "ipython3",
   "version": "3.8.2"
  }
 },
 "nbformat": 4,
 "nbformat_minor": 4
}
